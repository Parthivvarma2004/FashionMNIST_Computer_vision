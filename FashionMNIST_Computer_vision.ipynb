{
  "nbformat": 4,
  "nbformat_minor": 0,
  "metadata": {
    "colab": {
      "provenance": [],
      "gpuType": "T4",
      "authorship_tag": "ABX9TyOd9Iwtq4MiusTaS7mGFszS",
      "include_colab_link": true
    },
    "kernelspec": {
      "name": "python3",
      "display_name": "Python 3"
    },
    "language_info": {
      "name": "python"
    },
    "accelerator": "GPU"
  },
  "cells": [
    {
      "cell_type": "markdown",
      "metadata": {
        "id": "view-in-github",
        "colab_type": "text"
      },
      "source": [
        "<a href=\"https://colab.research.google.com/github/Parthivvarma2004/FashionMNIST_Computer_vision/blob/main/FashionMNIST_Computer_vision.ipynb\" target=\"_parent\"><img src=\"https://colab.research.google.com/assets/colab-badge.svg\" alt=\"Open In Colab\"/></a>"
      ]
    },
    {
      "cell_type": "code",
      "execution_count": 1,
      "metadata": {
        "id": "PXfpNdoZRzOI"
      },
      "outputs": [],
      "source": [
        "#Importing dependencies\n",
        "import torch\n",
        "from torch import nn\n",
        "\n",
        "import torchvision\n",
        "from torchvision import datasets\n",
        "from torchvision.transforms import ToTensor\n",
        "\n",
        "import matplotlib.pyplot as plt\n",
        "import pandas as pd\n"
      ]
    },
    {
      "cell_type": "code",
      "source": [
        "#Downloading training and testing data\n",
        "train_data = datasets.FashionMNIST(root = 'data', train = True, download = True, transform = ToTensor())\n",
        "test_data = datasets.FashionMNIST(root = 'data', train = False, download = True, transform = ToTensor())"
      ],
      "metadata": {
        "id": "mjrMcuZRSsd9"
      },
      "execution_count": 2,
      "outputs": []
    },
    {
      "cell_type": "code",
      "source": [
        "#Checking if data has been downloaded in the correct way\n",
        "train_data[0]"
      ],
      "metadata": {
        "colab": {
          "base_uri": "https://localhost:8080/"
        },
        "id": "jhzTUKdXTXt5",
        "outputId": "b92686d9-aa59-429e-d566-0f3eedf33eaa"
      },
      "execution_count": 3,
      "outputs": [
        {
          "output_type": "execute_result",
          "data": {
            "text/plain": [
              "(tensor([[[0.0000, 0.0000, 0.0000, 0.0000, 0.0000, 0.0000, 0.0000, 0.0000,\n",
              "           0.0000, 0.0000, 0.0000, 0.0000, 0.0000, 0.0000, 0.0000, 0.0000,\n",
              "           0.0000, 0.0000, 0.0000, 0.0000, 0.0000, 0.0000, 0.0000, 0.0000,\n",
              "           0.0000, 0.0000, 0.0000, 0.0000],\n",
              "          [0.0000, 0.0000, 0.0000, 0.0000, 0.0000, 0.0000, 0.0000, 0.0000,\n",
              "           0.0000, 0.0000, 0.0000, 0.0000, 0.0000, 0.0000, 0.0000, 0.0000,\n",
              "           0.0000, 0.0000, 0.0000, 0.0000, 0.0000, 0.0000, 0.0000, 0.0000,\n",
              "           0.0000, 0.0000, 0.0000, 0.0000],\n",
              "          [0.0000, 0.0000, 0.0000, 0.0000, 0.0000, 0.0000, 0.0000, 0.0000,\n",
              "           0.0000, 0.0000, 0.0000, 0.0000, 0.0000, 0.0000, 0.0000, 0.0000,\n",
              "           0.0000, 0.0000, 0.0000, 0.0000, 0.0000, 0.0000, 0.0000, 0.0000,\n",
              "           0.0000, 0.0000, 0.0000, 0.0000],\n",
              "          [0.0000, 0.0000, 0.0000, 0.0000, 0.0000, 0.0000, 0.0000, 0.0000,\n",
              "           0.0000, 0.0000, 0.0000, 0.0000, 0.0039, 0.0000, 0.0000, 0.0510,\n",
              "           0.2863, 0.0000, 0.0000, 0.0039, 0.0157, 0.0000, 0.0000, 0.0000,\n",
              "           0.0000, 0.0039, 0.0039, 0.0000],\n",
              "          [0.0000, 0.0000, 0.0000, 0.0000, 0.0000, 0.0000, 0.0000, 0.0000,\n",
              "           0.0000, 0.0000, 0.0000, 0.0000, 0.0118, 0.0000, 0.1412, 0.5333,\n",
              "           0.4980, 0.2431, 0.2118, 0.0000, 0.0000, 0.0000, 0.0039, 0.0118,\n",
              "           0.0157, 0.0000, 0.0000, 0.0118],\n",
              "          [0.0000, 0.0000, 0.0000, 0.0000, 0.0000, 0.0000, 0.0000, 0.0000,\n",
              "           0.0000, 0.0000, 0.0000, 0.0000, 0.0235, 0.0000, 0.4000, 0.8000,\n",
              "           0.6902, 0.5255, 0.5647, 0.4824, 0.0902, 0.0000, 0.0000, 0.0000,\n",
              "           0.0000, 0.0471, 0.0392, 0.0000],\n",
              "          [0.0000, 0.0000, 0.0000, 0.0000, 0.0000, 0.0000, 0.0000, 0.0000,\n",
              "           0.0000, 0.0000, 0.0000, 0.0000, 0.0000, 0.0000, 0.6078, 0.9255,\n",
              "           0.8118, 0.6980, 0.4196, 0.6118, 0.6314, 0.4275, 0.2510, 0.0902,\n",
              "           0.3020, 0.5098, 0.2824, 0.0588],\n",
              "          [0.0000, 0.0000, 0.0000, 0.0000, 0.0000, 0.0000, 0.0000, 0.0000,\n",
              "           0.0000, 0.0000, 0.0000, 0.0039, 0.0000, 0.2706, 0.8118, 0.8745,\n",
              "           0.8549, 0.8471, 0.8471, 0.6392, 0.4980, 0.4745, 0.4784, 0.5725,\n",
              "           0.5529, 0.3451, 0.6745, 0.2588],\n",
              "          [0.0000, 0.0000, 0.0000, 0.0000, 0.0000, 0.0000, 0.0000, 0.0000,\n",
              "           0.0000, 0.0039, 0.0039, 0.0039, 0.0000, 0.7843, 0.9098, 0.9098,\n",
              "           0.9137, 0.8980, 0.8745, 0.8745, 0.8431, 0.8353, 0.6431, 0.4980,\n",
              "           0.4824, 0.7686, 0.8980, 0.0000],\n",
              "          [0.0000, 0.0000, 0.0000, 0.0000, 0.0000, 0.0000, 0.0000, 0.0000,\n",
              "           0.0000, 0.0000, 0.0000, 0.0000, 0.0000, 0.7176, 0.8824, 0.8471,\n",
              "           0.8745, 0.8941, 0.9216, 0.8902, 0.8784, 0.8706, 0.8784, 0.8667,\n",
              "           0.8745, 0.9608, 0.6784, 0.0000],\n",
              "          [0.0000, 0.0000, 0.0000, 0.0000, 0.0000, 0.0000, 0.0000, 0.0000,\n",
              "           0.0000, 0.0000, 0.0000, 0.0000, 0.0000, 0.7569, 0.8941, 0.8549,\n",
              "           0.8353, 0.7765, 0.7059, 0.8314, 0.8235, 0.8275, 0.8353, 0.8745,\n",
              "           0.8627, 0.9529, 0.7922, 0.0000],\n",
              "          [0.0000, 0.0000, 0.0000, 0.0000, 0.0000, 0.0000, 0.0000, 0.0000,\n",
              "           0.0000, 0.0039, 0.0118, 0.0000, 0.0471, 0.8588, 0.8627, 0.8314,\n",
              "           0.8549, 0.7529, 0.6627, 0.8902, 0.8157, 0.8549, 0.8784, 0.8314,\n",
              "           0.8863, 0.7725, 0.8196, 0.2039],\n",
              "          [0.0000, 0.0000, 0.0000, 0.0000, 0.0000, 0.0000, 0.0000, 0.0000,\n",
              "           0.0000, 0.0000, 0.0235, 0.0000, 0.3882, 0.9569, 0.8706, 0.8627,\n",
              "           0.8549, 0.7961, 0.7765, 0.8667, 0.8431, 0.8353, 0.8706, 0.8627,\n",
              "           0.9608, 0.4667, 0.6549, 0.2196],\n",
              "          [0.0000, 0.0000, 0.0000, 0.0000, 0.0000, 0.0000, 0.0000, 0.0000,\n",
              "           0.0000, 0.0157, 0.0000, 0.0000, 0.2157, 0.9255, 0.8941, 0.9020,\n",
              "           0.8941, 0.9412, 0.9098, 0.8353, 0.8549, 0.8745, 0.9176, 0.8510,\n",
              "           0.8510, 0.8196, 0.3608, 0.0000],\n",
              "          [0.0000, 0.0000, 0.0039, 0.0157, 0.0235, 0.0275, 0.0078, 0.0000,\n",
              "           0.0000, 0.0000, 0.0000, 0.0000, 0.9294, 0.8863, 0.8510, 0.8745,\n",
              "           0.8706, 0.8588, 0.8706, 0.8667, 0.8471, 0.8745, 0.8980, 0.8431,\n",
              "           0.8549, 1.0000, 0.3020, 0.0000],\n",
              "          [0.0000, 0.0118, 0.0000, 0.0000, 0.0000, 0.0000, 0.0000, 0.0000,\n",
              "           0.0000, 0.2431, 0.5686, 0.8000, 0.8941, 0.8118, 0.8353, 0.8667,\n",
              "           0.8549, 0.8157, 0.8275, 0.8549, 0.8784, 0.8745, 0.8588, 0.8431,\n",
              "           0.8784, 0.9569, 0.6235, 0.0000],\n",
              "          [0.0000, 0.0000, 0.0000, 0.0000, 0.0706, 0.1725, 0.3216, 0.4196,\n",
              "           0.7412, 0.8941, 0.8627, 0.8706, 0.8510, 0.8863, 0.7843, 0.8039,\n",
              "           0.8275, 0.9020, 0.8784, 0.9176, 0.6902, 0.7373, 0.9804, 0.9725,\n",
              "           0.9137, 0.9333, 0.8431, 0.0000],\n",
              "          [0.0000, 0.2235, 0.7333, 0.8157, 0.8784, 0.8667, 0.8784, 0.8157,\n",
              "           0.8000, 0.8392, 0.8157, 0.8196, 0.7843, 0.6235, 0.9608, 0.7569,\n",
              "           0.8078, 0.8745, 1.0000, 1.0000, 0.8667, 0.9176, 0.8667, 0.8275,\n",
              "           0.8627, 0.9098, 0.9647, 0.0000],\n",
              "          [0.0118, 0.7922, 0.8941, 0.8784, 0.8667, 0.8275, 0.8275, 0.8392,\n",
              "           0.8039, 0.8039, 0.8039, 0.8627, 0.9412, 0.3137, 0.5882, 1.0000,\n",
              "           0.8980, 0.8667, 0.7373, 0.6039, 0.7490, 0.8235, 0.8000, 0.8196,\n",
              "           0.8706, 0.8941, 0.8824, 0.0000],\n",
              "          [0.3843, 0.9137, 0.7765, 0.8235, 0.8706, 0.8980, 0.8980, 0.9176,\n",
              "           0.9765, 0.8627, 0.7608, 0.8431, 0.8510, 0.9451, 0.2549, 0.2863,\n",
              "           0.4157, 0.4588, 0.6588, 0.8588, 0.8667, 0.8431, 0.8510, 0.8745,\n",
              "           0.8745, 0.8784, 0.8980, 0.1137],\n",
              "          [0.2941, 0.8000, 0.8314, 0.8000, 0.7569, 0.8039, 0.8275, 0.8824,\n",
              "           0.8471, 0.7255, 0.7725, 0.8078, 0.7765, 0.8353, 0.9412, 0.7647,\n",
              "           0.8902, 0.9608, 0.9373, 0.8745, 0.8549, 0.8314, 0.8196, 0.8706,\n",
              "           0.8627, 0.8667, 0.9020, 0.2627],\n",
              "          [0.1882, 0.7961, 0.7176, 0.7608, 0.8353, 0.7725, 0.7255, 0.7451,\n",
              "           0.7608, 0.7529, 0.7922, 0.8392, 0.8588, 0.8667, 0.8627, 0.9255,\n",
              "           0.8824, 0.8471, 0.7804, 0.8078, 0.7294, 0.7098, 0.6941, 0.6745,\n",
              "           0.7098, 0.8039, 0.8078, 0.4510],\n",
              "          [0.0000, 0.4784, 0.8588, 0.7569, 0.7020, 0.6706, 0.7176, 0.7686,\n",
              "           0.8000, 0.8235, 0.8353, 0.8118, 0.8275, 0.8235, 0.7843, 0.7686,\n",
              "           0.7608, 0.7490, 0.7647, 0.7490, 0.7765, 0.7529, 0.6902, 0.6118,\n",
              "           0.6549, 0.6941, 0.8235, 0.3608],\n",
              "          [0.0000, 0.0000, 0.2902, 0.7412, 0.8314, 0.7490, 0.6863, 0.6745,\n",
              "           0.6863, 0.7098, 0.7255, 0.7373, 0.7412, 0.7373, 0.7569, 0.7765,\n",
              "           0.8000, 0.8196, 0.8235, 0.8235, 0.8275, 0.7373, 0.7373, 0.7608,\n",
              "           0.7529, 0.8471, 0.6667, 0.0000],\n",
              "          [0.0078, 0.0000, 0.0000, 0.0000, 0.2588, 0.7843, 0.8706, 0.9294,\n",
              "           0.9373, 0.9490, 0.9647, 0.9529, 0.9569, 0.8667, 0.8627, 0.7569,\n",
              "           0.7490, 0.7020, 0.7137, 0.7137, 0.7098, 0.6902, 0.6510, 0.6588,\n",
              "           0.3882, 0.2275, 0.0000, 0.0000],\n",
              "          [0.0000, 0.0000, 0.0000, 0.0000, 0.0000, 0.0000, 0.0000, 0.1569,\n",
              "           0.2392, 0.1725, 0.2824, 0.1608, 0.1373, 0.0000, 0.0000, 0.0000,\n",
              "           0.0000, 0.0000, 0.0000, 0.0000, 0.0000, 0.0000, 0.0000, 0.0000,\n",
              "           0.0000, 0.0000, 0.0000, 0.0000],\n",
              "          [0.0000, 0.0000, 0.0000, 0.0000, 0.0000, 0.0000, 0.0000, 0.0000,\n",
              "           0.0000, 0.0000, 0.0000, 0.0000, 0.0000, 0.0000, 0.0000, 0.0000,\n",
              "           0.0000, 0.0000, 0.0000, 0.0000, 0.0000, 0.0000, 0.0000, 0.0000,\n",
              "           0.0000, 0.0000, 0.0000, 0.0000],\n",
              "          [0.0000, 0.0000, 0.0000, 0.0000, 0.0000, 0.0000, 0.0000, 0.0000,\n",
              "           0.0000, 0.0000, 0.0000, 0.0000, 0.0000, 0.0000, 0.0000, 0.0000,\n",
              "           0.0000, 0.0000, 0.0000, 0.0000, 0.0000, 0.0000, 0.0000, 0.0000,\n",
              "           0.0000, 0.0000, 0.0000, 0.0000]]]),\n",
              " 9)"
            ]
          },
          "metadata": {},
          "execution_count": 3
        }
      ]
    },
    {
      "cell_type": "code",
      "source": [
        "image, label = train_data[0]\n",
        "image.shape"
      ],
      "metadata": {
        "colab": {
          "base_uri": "https://localhost:8080/"
        },
        "id": "07t7DBIWafpA",
        "outputId": "ecbdcba7-16e1-4db8-c493-de0462b4f99e"
      },
      "execution_count": 4,
      "outputs": [
        {
          "output_type": "execute_result",
          "data": {
            "text/plain": [
              "torch.Size([1, 28, 28])"
            ]
          },
          "metadata": {},
          "execution_count": 4
        }
      ]
    },
    {
      "cell_type": "code",
      "source": [
        "train_data.data[0]"
      ],
      "metadata": {
        "colab": {
          "base_uri": "https://localhost:8080/"
        },
        "id": "QC3e27Faa-kl",
        "outputId": "7126ce6f-6951-4922-96d9-03cccd8ccd8c"
      },
      "execution_count": 5,
      "outputs": [
        {
          "output_type": "execute_result",
          "data": {
            "text/plain": [
              "tensor([[  0,   0,   0,   0,   0,   0,   0,   0,   0,   0,   0,   0,   0,   0,\n",
              "           0,   0,   0,   0,   0,   0,   0,   0,   0,   0,   0,   0,   0,   0],\n",
              "        [  0,   0,   0,   0,   0,   0,   0,   0,   0,   0,   0,   0,   0,   0,\n",
              "           0,   0,   0,   0,   0,   0,   0,   0,   0,   0,   0,   0,   0,   0],\n",
              "        [  0,   0,   0,   0,   0,   0,   0,   0,   0,   0,   0,   0,   0,   0,\n",
              "           0,   0,   0,   0,   0,   0,   0,   0,   0,   0,   0,   0,   0,   0],\n",
              "        [  0,   0,   0,   0,   0,   0,   0,   0,   0,   0,   0,   0,   1,   0,\n",
              "           0,  13,  73,   0,   0,   1,   4,   0,   0,   0,   0,   1,   1,   0],\n",
              "        [  0,   0,   0,   0,   0,   0,   0,   0,   0,   0,   0,   0,   3,   0,\n",
              "          36, 136, 127,  62,  54,   0,   0,   0,   1,   3,   4,   0,   0,   3],\n",
              "        [  0,   0,   0,   0,   0,   0,   0,   0,   0,   0,   0,   0,   6,   0,\n",
              "         102, 204, 176, 134, 144, 123,  23,   0,   0,   0,   0,  12,  10,   0],\n",
              "        [  0,   0,   0,   0,   0,   0,   0,   0,   0,   0,   0,   0,   0,   0,\n",
              "         155, 236, 207, 178, 107, 156, 161, 109,  64,  23,  77, 130,  72,  15],\n",
              "        [  0,   0,   0,   0,   0,   0,   0,   0,   0,   0,   0,   1,   0,  69,\n",
              "         207, 223, 218, 216, 216, 163, 127, 121, 122, 146, 141,  88, 172,  66],\n",
              "        [  0,   0,   0,   0,   0,   0,   0,   0,   0,   1,   1,   1,   0, 200,\n",
              "         232, 232, 233, 229, 223, 223, 215, 213, 164, 127, 123, 196, 229,   0],\n",
              "        [  0,   0,   0,   0,   0,   0,   0,   0,   0,   0,   0,   0,   0, 183,\n",
              "         225, 216, 223, 228, 235, 227, 224, 222, 224, 221, 223, 245, 173,   0],\n",
              "        [  0,   0,   0,   0,   0,   0,   0,   0,   0,   0,   0,   0,   0, 193,\n",
              "         228, 218, 213, 198, 180, 212, 210, 211, 213, 223, 220, 243, 202,   0],\n",
              "        [  0,   0,   0,   0,   0,   0,   0,   0,   0,   1,   3,   0,  12, 219,\n",
              "         220, 212, 218, 192, 169, 227, 208, 218, 224, 212, 226, 197, 209,  52],\n",
              "        [  0,   0,   0,   0,   0,   0,   0,   0,   0,   0,   6,   0,  99, 244,\n",
              "         222, 220, 218, 203, 198, 221, 215, 213, 222, 220, 245, 119, 167,  56],\n",
              "        [  0,   0,   0,   0,   0,   0,   0,   0,   0,   4,   0,   0,  55, 236,\n",
              "         228, 230, 228, 240, 232, 213, 218, 223, 234, 217, 217, 209,  92,   0],\n",
              "        [  0,   0,   1,   4,   6,   7,   2,   0,   0,   0,   0,   0, 237, 226,\n",
              "         217, 223, 222, 219, 222, 221, 216, 223, 229, 215, 218, 255,  77,   0],\n",
              "        [  0,   3,   0,   0,   0,   0,   0,   0,   0,  62, 145, 204, 228, 207,\n",
              "         213, 221, 218, 208, 211, 218, 224, 223, 219, 215, 224, 244, 159,   0],\n",
              "        [  0,   0,   0,   0,  18,  44,  82, 107, 189, 228, 220, 222, 217, 226,\n",
              "         200, 205, 211, 230, 224, 234, 176, 188, 250, 248, 233, 238, 215,   0],\n",
              "        [  0,  57, 187, 208, 224, 221, 224, 208, 204, 214, 208, 209, 200, 159,\n",
              "         245, 193, 206, 223, 255, 255, 221, 234, 221, 211, 220, 232, 246,   0],\n",
              "        [  3, 202, 228, 224, 221, 211, 211, 214, 205, 205, 205, 220, 240,  80,\n",
              "         150, 255, 229, 221, 188, 154, 191, 210, 204, 209, 222, 228, 225,   0],\n",
              "        [ 98, 233, 198, 210, 222, 229, 229, 234, 249, 220, 194, 215, 217, 241,\n",
              "          65,  73, 106, 117, 168, 219, 221, 215, 217, 223, 223, 224, 229,  29],\n",
              "        [ 75, 204, 212, 204, 193, 205, 211, 225, 216, 185, 197, 206, 198, 213,\n",
              "         240, 195, 227, 245, 239, 223, 218, 212, 209, 222, 220, 221, 230,  67],\n",
              "        [ 48, 203, 183, 194, 213, 197, 185, 190, 194, 192, 202, 214, 219, 221,\n",
              "         220, 236, 225, 216, 199, 206, 186, 181, 177, 172, 181, 205, 206, 115],\n",
              "        [  0, 122, 219, 193, 179, 171, 183, 196, 204, 210, 213, 207, 211, 210,\n",
              "         200, 196, 194, 191, 195, 191, 198, 192, 176, 156, 167, 177, 210,  92],\n",
              "        [  0,   0,  74, 189, 212, 191, 175, 172, 175, 181, 185, 188, 189, 188,\n",
              "         193, 198, 204, 209, 210, 210, 211, 188, 188, 194, 192, 216, 170,   0],\n",
              "        [  2,   0,   0,   0,  66, 200, 222, 237, 239, 242, 246, 243, 244, 221,\n",
              "         220, 193, 191, 179, 182, 182, 181, 176, 166, 168,  99,  58,   0,   0],\n",
              "        [  0,   0,   0,   0,   0,   0,   0,  40,  61,  44,  72,  41,  35,   0,\n",
              "           0,   0,   0,   0,   0,   0,   0,   0,   0,   0,   0,   0,   0,   0],\n",
              "        [  0,   0,   0,   0,   0,   0,   0,   0,   0,   0,   0,   0,   0,   0,\n",
              "           0,   0,   0,   0,   0,   0,   0,   0,   0,   0,   0,   0,   0,   0],\n",
              "        [  0,   0,   0,   0,   0,   0,   0,   0,   0,   0,   0,   0,   0,   0,\n",
              "           0,   0,   0,   0,   0,   0,   0,   0,   0,   0,   0,   0,   0,   0]],\n",
              "       dtype=torch.uint8)"
            ]
          },
          "metadata": {},
          "execution_count": 5
        }
      ]
    },
    {
      "cell_type": "code",
      "source": [
        "train_data.targets[0]"
      ],
      "metadata": {
        "colab": {
          "base_uri": "https://localhost:8080/"
        },
        "id": "rH9U206vbEWo",
        "outputId": "e672eee2-7d8f-42a4-e376-1866d65f0460"
      },
      "execution_count": 6,
      "outputs": [
        {
          "output_type": "execute_result",
          "data": {
            "text/plain": [
              "tensor(9)"
            ]
          },
          "metadata": {},
          "execution_count": 6
        }
      ]
    },
    {
      "cell_type": "code",
      "source": [
        "#Display all the different labels/class names\n",
        "class_names = train_data.classes\n",
        "class_names"
      ],
      "metadata": {
        "colab": {
          "base_uri": "https://localhost:8080/"
        },
        "id": "Ehgx0Eb9bTnC",
        "outputId": "e5e94efd-3c83-4869-d299-fab4711e4306"
      },
      "execution_count": 7,
      "outputs": [
        {
          "output_type": "execute_result",
          "data": {
            "text/plain": [
              "['T-shirt/top',\n",
              " 'Trouser',\n",
              " 'Pullover',\n",
              " 'Dress',\n",
              " 'Coat',\n",
              " 'Sandal',\n",
              " 'Shirt',\n",
              " 'Sneaker',\n",
              " 'Bag',\n",
              " 'Ankle boot']"
            ]
          },
          "metadata": {},
          "execution_count": 7
        }
      ]
    },
    {
      "cell_type": "code",
      "source": [
        "#Printing the image for data visualization\n",
        "plt.figure(figsize=(2, 2))\n",
        "plt.imshow(image.squeeze())\n",
        "plt.title(class_names[label])"
      ],
      "metadata": {
        "colab": {
          "base_uri": "https://localhost:8080/",
          "height": 254
        },
        "id": "s0S87sdObUQC",
        "outputId": "5a80c02d-7e72-466d-9b79-abd217ddb208"
      },
      "execution_count": 8,
      "outputs": [
        {
          "output_type": "execute_result",
          "data": {
            "text/plain": [
              "Text(0.5, 1.0, 'Ankle boot')"
            ]
          },
          "metadata": {},
          "execution_count": 8
        },
        {
          "output_type": "display_data",
          "data": {
            "text/plain": [
              "<Figure size 200x200 with 1 Axes>"
            ],
            "image/png": "[encoded data removed]"
          },
          "metadata": {}
        }
      ]
    },
    {
      "cell_type": "code",
      "source": [
        "#Creating the dataloader\n",
        "from torch.utils.data import DataLoader\n",
        "BATCH_SIZE = 32\n",
        "train_dataloader = DataLoader(train_data, batch_size = BATCH_SIZE, shuffle = True)\n",
        "test_dataloader = DataLoader(test_data, batch_size = BATCH_SIZE, shuffle = False)"
      ],
      "metadata": {
        "id": "fV4kQnbIbUNh"
      },
      "execution_count": 9,
      "outputs": []
    },
    {
      "cell_type": "code",
      "source": [
        "len(train_dataloader)"
      ],
      "metadata": {
        "colab": {
          "base_uri": "https://localhost:8080/"
        },
        "id": "_VvSU3_TbULJ",
        "outputId": "c4105d26-af0b-493b-9fdd-c21bf6f25c3d"
      },
      "execution_count": 10,
      "outputs": [
        {
          "output_type": "execute_result",
          "data": {
            "text/plain": [
              "1875"
            ]
          },
          "metadata": {},
          "execution_count": 10
        }
      ]
    },
    {
      "cell_type": "code",
      "source": [
        "len(test_dataloader)"
      ],
      "metadata": {
        "colab": {
          "base_uri": "https://localhost:8080/"
        },
        "id": "7biogznbbT-S",
        "outputId": "4de69f2c-02fb-4f93-ee02-3790414dfb3b"
      },
      "execution_count": 11,
      "outputs": [
        {
          "output_type": "execute_result",
          "data": {
            "text/plain": [
              "313"
            ]
          },
          "metadata": {},
          "execution_count": 11
        }
      ]
    },
    {
      "cell_type": "code",
      "source": [
        "#Next we flatten our tensors as linear layers in the nn module work with single vectors\n",
        "#First attempt at building a solution - linear and non linear layers (Relu())\n",
        "from torch import nn\n",
        "class ModelV0(nn.Module):\n",
        "  def __init__(self, input_shape: int, hidden_units: int, output_shape: int):\n",
        "    super().__init__()\n",
        "    self.layer_stack = nn.Sequential(nn.Flatten(),\n",
        "                                      nn.Linear(in_features=input_shape, out_features = hidden_units),\n",
        "                                      nn.ReLU(),\n",
        "                                      nn.Linear(in_features = hidden_units, out_features = output_shape),\n",
        "                                      nn.ReLU()\n",
        "                                      )\n",
        "  def forward(self, x:torch.Tensor):\n",
        "    return self.layer_stack(x)"
      ],
      "metadata": {
        "id": "Cqy2T70Uglgv"
      },
      "execution_count": 12,
      "outputs": []
    },
    {
      "cell_type": "code",
      "source": [
        "#Next we define the gpu as device to make the process faster\n",
        "device = \"cuda\" if torch.cuda.is_available() else \"cpu\"\n",
        "device"
      ],
      "metadata": {
        "colab": {
          "base_uri": "https://localhost:8080/",
          "height": 35
        },
        "id": "yugytv2qSWL5",
        "outputId": "26825c67-5390-4867-da8e-5fa035e182b9"
      },
      "execution_count": 13,
      "outputs": [
        {
          "output_type": "execute_result",
          "data": {
            "text/plain": [
              "'cuda'"
            ],
            "application/vnd.google.colaboratory.intrinsic+json": {
              "type": "string"
            }
          },
          "metadata": {},
          "execution_count": 13
        }
      ]
    },
    {
      "cell_type": "code",
      "source": [
        "#Flattening the model will cause the vector to be of size 28*28 = 784, so we use input_shape = 784, hidden_units = 10 (arbitrary small number),\n",
        "#and output_units = len(class_names)\n",
        "\n",
        "model_0  = ModelV0(input_shape = 784, hidden_units = 10, output_shape = len(class_names)).to(device)\n"
      ],
      "metadata": {
        "id": "qhkmqtDxR8yp"
      },
      "execution_count": 14,
      "outputs": []
    },
    {
      "cell_type": "code",
      "source": [
        "next(model_0.parameters())"
      ],
      "metadata": {
        "colab": {
          "base_uri": "https://localhost:8080/"
        },
        "id": "N7ul__5MV7mY",
        "outputId": "1f867cbd-75cd-4d88-cdfd-41a89e10791a"
      },
      "execution_count": 15,
      "outputs": [
        {
          "output_type": "execute_result",
          "data": {
            "text/plain": [
              "Parameter containing:\n",
              "tensor([[ 0.0253, -0.0018, -0.0295,  ..., -0.0019, -0.0123,  0.0032],\n",
              "        [-0.0205,  0.0154,  0.0095,  ...,  0.0071, -0.0073,  0.0188],\n",
              "        [-0.0327,  0.0004,  0.0132,  ...,  0.0108,  0.0344,  0.0270],\n",
              "        ...,\n",
              "        [-0.0018, -0.0275,  0.0068,  ..., -0.0184,  0.0122, -0.0255],\n",
              "        [-0.0199,  0.0008, -0.0046,  ..., -0.0214,  0.0260,  0.0276],\n",
              "        [-0.0340, -0.0325, -0.0095,  ..., -0.0328, -0.0029,  0.0083]],\n",
              "       device='cuda:0', requires_grad=True)"
            ]
          },
          "metadata": {},
          "execution_count": 15
        }
      ]
    },
    {
      "cell_type": "code",
      "source": [
        "next(model_0.parameters()).device"
      ],
      "metadata": {
        "colab": {
          "base_uri": "https://localhost:8080/"
        },
        "id": "kD902q9NWQ5E",
        "outputId": "c651e3a2-8ce6-4f87-c29c-58c8e0144dae"
      },
      "execution_count": 16,
      "outputs": [
        {
          "output_type": "execute_result",
          "data": {
            "text/plain": [
              "device(type='cuda', index=0)"
            ]
          },
          "metadata": {},
          "execution_count": 16
        }
      ]
    },
    {
      "cell_type": "code",
      "source": [
        "loss_function = nn.CrossEntropyLoss()\n",
        "optimizer = torch.optim.SGD(params = model_0.parameters(), lr = 0.1)"
      ],
      "metadata": {
        "id": "eH5gToh0Wket"
      },
      "execution_count": 17,
      "outputs": []
    },
    {
      "cell_type": "code",
      "source": [
        "#Creating an accuracy function to use later\n",
        "def accuracy_fn(y_true: torch.Tensor, y_pred: torch.Tensor):\n",
        "  matches = torch.eq(y_true, y_pred).sum().item()\n",
        "  return ((matches/len(y_pred))*100)"
      ],
      "metadata": {
        "id": "P-Z3v4XQfD8Q"
      },
      "execution_count": 18,
      "outputs": []
    },
    {
      "cell_type": "code",
      "source": [
        "#Training and testing functions\n",
        "def train_step(model: torch.nn.Module,\n",
        "               dataLoader: torch.utils.data.DataLoader,\n",
        "               loss_fn: torch.nn.Module,\n",
        "               optimizer: torch.optim.Optimizer,\n",
        "               accuracy_fn,\n",
        "               device:torch.device = device):\n",
        "  train_loss = 0\n",
        "  train_acc = 0\n",
        "  model.to(device)\n",
        "  for batch, (X,y) in  enumerate(dataLoader):\n",
        "    X = X.to(device)\n",
        "    y = y.to(device)\n",
        "\n",
        "    train_pred = model(X)\n",
        "\n",
        "    loss = loss_fn(train_pred,y)\n",
        "    train_loss += loss\n",
        "    train_acc += accuracy_fn(y_true = y, y_pred = train_pred.argmax(dim=1))\n",
        "\n",
        "    optimizer.zero_grad()\n",
        "\n",
        "    loss.backward()\n",
        "\n",
        "    optimizer.step()\n",
        "\n",
        "  train_loss /= len(dataLoader)\n",
        "  train_acc /= len(dataLoader)\n",
        "  print(f\"Train loss: {train_loss:.5f} , Train accuracy: {train_acc:.2f}%\")\n",
        "\n",
        "def test_step(dataLoader: torch.utils.data.DataLoader,\n",
        "              model: torch.nn.Module,\n",
        "              loss_fn: torch.nn.Module,\n",
        "              accuracy_fn,\n",
        "              device: torch.device = device):\n",
        "    test_loss, test_acc = 0, 0\n",
        "    model.to(device)\n",
        "    model.eval()\n",
        "\n",
        "    with torch.inference_mode():\n",
        "        for X, y in dataLoader:\n",
        "            X = X.to(device)\n",
        "            y = y.to(device)\n",
        "\n",
        "            test_pred = model(X)\n",
        "\n",
        "            test_loss += loss_fn(test_pred, y)\n",
        "            test_acc += accuracy_fn(y_true=y, y_pred=test_pred.argmax(dim=1))\n",
        "\n",
        "        test_loss /= len(dataLoader)\n",
        "        test_acc /= len(dataLoader)\n",
        "        print(f\"Test loss: {test_loss:.5f} | Test accuracy: {test_acc:.2f}%\\n\")"
      ],
      "metadata": {
        "id": "uphPnZqKdhdb"
      },
      "execution_count": 19,
      "outputs": []
    },
    {
      "cell_type": "code",
      "source": [
        "from timeit import default_timer as timer\n",
        "train_time_start = timer()\n",
        "\n",
        "epochs = 5\n",
        "for epoch in range(epochs):\n",
        "  print(f\"Epoch: {epoch}\\n\")\n",
        "  train_step(dataLoader = train_dataloader,\n",
        "             model = model_0,\n",
        "             optimizer = optimizer,\n",
        "             loss_fn = loss_function,\n",
        "             accuracy_fn = accuracy_fn)\n",
        "  test_step(dataLoader=test_dataloader,\n",
        "            model=model_0,\n",
        "            loss_fn=loss_function,\n",
        "            accuracy_fn=accuracy_fn\n",
        "            )\n",
        "  train_time_end = timer()\n",
        "  print(f\"It took {train_time_end - train_time_start} seconds to complete the process\\n\" )"
      ],
      "metadata": {
        "colab": {
          "base_uri": "https://localhost:8080/"
        },
        "id": "es16RVq-8aBS",
        "outputId": "1a033ec9-f8d4-4dbb-edb9-57075fcf60fd"
      },
      "execution_count": 20,
      "outputs": [
        {
          "output_type": "stream",
          "name": "stdout",
          "text": [
            "Epoch: 0\n",
            "\n",
            "Train loss: 1.28227 , Train accuracy: 60.67%\n",
            "Test loss: 1.21748 | Test accuracy: 61.78%\n",
            "\n",
            "It took 17.640845848000026 seconds to complete the process\n",
            "\n",
            "Epoch: 1\n",
            "\n",
            "Train loss: 1.18695 , Train accuracy: 63.88%\n",
            "Test loss: 1.18732 | Test accuracy: 64.19%\n",
            "\n",
            "It took 29.324207043000115 seconds to complete the process\n",
            "\n",
            "Epoch: 2\n",
            "\n",
            "Train loss: 1.17027 , Train accuracy: 64.19%\n",
            "Test loss: 1.18434 | Test accuracy: 63.94%\n",
            "\n",
            "It took 41.045114942000055 seconds to complete the process\n",
            "\n",
            "Epoch: 3\n",
            "\n",
            "Train loss: 1.16187 , Train accuracy: 64.48%\n",
            "Test loss: 1.19459 | Test accuracy: 63.41%\n",
            "\n",
            "It took 52.705046020999816 seconds to complete the process\n",
            "\n",
            "Epoch: 4\n",
            "\n",
            "Train loss: 1.15502 , Train accuracy: 64.58%\n",
            "Test loss: 1.18497 | Test accuracy: 64.09%\n",
            "\n",
            "It took 64.30329557000005 seconds to complete the process\n",
            "\n"
          ]
        }
      ]
    },
    {
      "cell_type": "code",
      "source": [
        "#Model evaluation function\n",
        "def model_eval(model: torch.nn.Module,\n",
        "               dataLoader: torch.utils.data.DataLoader,\n",
        "               loss_fn: torch.nn.Module,\n",
        "               accuracy_fn,\n",
        "               device: torch.device = device):\n",
        "  eval_acc = 0\n",
        "  eval_loss = 0\n",
        "  for X, y in dataLoader:\n",
        "    X = X.to(device)\n",
        "    y = y.to(device)\n",
        "\n",
        "    y_pred = model(X)\n",
        "\n",
        "    eval_loss += loss_fn(y_pred, y)\n",
        "    eval_acc += accuracy_fn(y_true = y, y_pred = y_pred.argmax(dim=1))\n",
        "\n",
        "  eval_loss /= len(dataLoader)\n",
        "  eval_acc /= len(dataLoader)\n",
        "  return {\"model_name\": model.__class__.__name__,\n",
        "          \"loss\": eval_loss.item(),\n",
        "          \"accuracy\": eval_acc}\n"
      ],
      "metadata": {
        "id": "Dlov6K9ELGzR"
      },
      "execution_count": 21,
      "outputs": []
    },
    {
      "cell_type": "code",
      "source": [
        "model0_results = model_eval(model = model_0,\n",
        "               dataLoader = test_dataloader,\n",
        "               loss_fn = loss_function,\n",
        "               accuracy_fn = accuracy_fn,\n",
        "               device = device)\n",
        "model0_results"
      ],
      "metadata": {
        "colab": {
          "base_uri": "https://localhost:8080/"
        },
        "id": "BF9ov_ZFMBtC",
        "outputId": "7d44d366-f041-4423-c5a1-31da372cb485"
      },
      "execution_count": 22,
      "outputs": [
        {
          "output_type": "execute_result",
          "data": {
            "text/plain": [
              "{'model_name': 'ModelV0',\n",
              " 'loss': 1.1849697828292847,\n",
              " 'accuracy': 64.08746006389777}"
            ]
          },
          "metadata": {},
          "execution_count": 22
        }
      ]
    },
    {
      "cell_type": "code",
      "source": [
        "#Creating a model with CNNs\n",
        "class ModelV1(nn.Module):\n",
        "  def __init__(self, input_shape:int, hidden_units:int, output_shape: int):\n",
        "    super().__init__()\n",
        "    self.block_1 = nn.Sequential(\n",
        "        nn.Conv2d(in_channels = input_shape,\n",
        "                  out_channels = hidden_units,\n",
        "                  kernel_size = 3,\n",
        "                  padding = 1,\n",
        "                  stride = 1),\n",
        "\n",
        "        nn.ReLU(),\n",
        "        nn.Conv2d(in_channels = hidden_units,\n",
        "                  out_channels = hidden_units,\n",
        "                  kernel_size = 3,\n",
        "                  padding = 1,\n",
        "                  stride = 1),\n",
        "        nn.ReLU(),\n",
        "        nn.MaxPool2d(kernel_size = 2,\n",
        "                     stride = 2)\n",
        "        )\n",
        "    self.block_2 = nn.Sequential(\n",
        "        nn.Conv2d(in_channels = hidden_units,\n",
        "                  out_channels = hidden_units,\n",
        "                  kernel_size = 3,\n",
        "                  padding = 1,\n",
        "                  stride = 1),\n",
        "\n",
        "        nn.ReLU(),\n",
        "        nn.Conv2d(in_channels = hidden_units,\n",
        "                  out_channels = hidden_units,\n",
        "                  kernel_size = 3,\n",
        "                  padding = 1,\n",
        "                  stride = 1),\n",
        "        nn.ReLU(),\n",
        "        nn.MaxPool2d(kernel_size = 2,\n",
        "                     stride = 2)\n",
        "        )\n",
        "    self.classifier = nn.Sequential(\n",
        "        nn.Flatten(),\n",
        "        nn.Linear(in_features = hidden_units*7*7,\n",
        "                  out_features = output_shape)\n",
        "    )\n",
        "\n",
        "  def forward(self, x:torch.Tensor):\n",
        "    x = self.block_1(x)\n",
        "    x = self.block_2(x)\n",
        "    x = self.classifier(x)\n",
        "    return x\n",
        "model_1 = ModelV1(1, 10 , len(class_names))\n",
        "model_1"
      ],
      "metadata": {
        "colab": {
          "base_uri": "https://localhost:8080/"
        },
        "id": "oAfqOINXPqGn",
        "outputId": "4dabc955-1511-4297-f36e-40212f1cbdeb"
      },
      "execution_count": 23,
      "outputs": [
        {
          "output_type": "execute_result",
          "data": {
            "text/plain": [
              "ModelV1(\n",
              "  (block_1): Sequential(\n",
              "    (0): Conv2d(1, 10, kernel_size=(3, 3), stride=(1, 1), padding=(1, 1))\n",
              "    (1): ReLU()\n",
              "    (2): Conv2d(10, 10, kernel_size=(3, 3), stride=(1, 1), padding=(1, 1))\n",
              "    (3): ReLU()\n",
              "    (4): MaxPool2d(kernel_size=2, stride=2, padding=0, dilation=1, ceil_mode=False)\n",
              "  )\n",
              "  (block_2): Sequential(\n",
              "    (0): Conv2d(10, 10, kernel_size=(3, 3), stride=(1, 1), padding=(1, 1))\n",
              "    (1): ReLU()\n",
              "    (2): Conv2d(10, 10, kernel_size=(3, 3), stride=(1, 1), padding=(1, 1))\n",
              "    (3): ReLU()\n",
              "    (4): MaxPool2d(kernel_size=2, stride=2, padding=0, dilation=1, ceil_mode=False)\n",
              "  )\n",
              "  (classifier): Sequential(\n",
              "    (0): Flatten(start_dim=1, end_dim=-1)\n",
              "    (1): Linear(in_features=490, out_features=10, bias=True)\n",
              "  )\n",
              ")"
            ]
          },
          "metadata": {},
          "execution_count": 23
        }
      ]
    },
    {
      "cell_type": "code",
      "source": [
        "# Setup loss and optimizer\n",
        "loss_fn = nn.CrossEntropyLoss()\n",
        "optimizer = torch.optim.SGD(params=model_1.parameters(),\n",
        "                             lr=0.1)"
      ],
      "metadata": {
        "id": "n4ajkObwirE4"
      },
      "execution_count": 24,
      "outputs": []
    },
    {
      "cell_type": "code",
      "source": [
        "#Training and testing the model\n",
        "train_time_start = timer()\n",
        "\n",
        "epochs = 5\n",
        "for epoch in range(epochs):\n",
        "  print(f\"Epoch: {epoch}\\n\")\n",
        "  train_step(dataLoader = train_dataloader,\n",
        "             model = model_1,\n",
        "             optimizer = optimizer,\n",
        "             loss_fn = loss_function,\n",
        "             accuracy_fn = accuracy_fn)\n",
        "  test_step(dataLoader=test_dataloader,\n",
        "            model=model_1,\n",
        "            loss_fn=loss_function,\n",
        "            accuracy_fn=accuracy_fn\n",
        "            )\n",
        "  train_time_end = timer()\n",
        "  print(f\"It took {train_time_end - train_time_start} seconds to complete the process\\n\" )"
      ],
      "metadata": {
        "colab": {
          "base_uri": "https://localhost:8080/"
        },
        "id": "Pp_jdMGvhaOr",
        "outputId": "b57e2056-143b-478f-f104-7439b06f178f"
      },
      "execution_count": 25,
      "outputs": [
        {
          "output_type": "stream",
          "name": "stdout",
          "text": [
            "Epoch: 0\n",
            "\n",
            "Train loss: 0.58099 , Train accuracy: 78.65%\n",
            "Test loss: 0.43817 | Test accuracy: 83.87%\n",
            "\n",
            "It took 14.745510803999878 seconds to complete the process\n",
            "\n",
            "Epoch: 1\n",
            "\n",
            "Train loss: 0.36322 , Train accuracy: 86.62%\n",
            "Test loss: 0.36980 | Test accuracy: 86.71%\n",
            "\n",
            "It took 29.577794291999908 seconds to complete the process\n",
            "\n",
            "Epoch: 2\n",
            "\n",
            "Train loss: 0.32249 , Train accuracy: 88.25%\n",
            "Test loss: 0.33857 | Test accuracy: 87.84%\n",
            "\n",
            "It took 43.310602022999774 seconds to complete the process\n",
            "\n",
            "Epoch: 3\n",
            "\n",
            "Train loss: 0.30079 , Train accuracy: 89.03%\n",
            "Test loss: 0.31904 | Test accuracy: 88.53%\n",
            "\n",
            "It took 57.57835947299964 seconds to complete the process\n",
            "\n",
            "Epoch: 4\n",
            "\n",
            "Train loss: 0.28605 , Train accuracy: 89.64%\n",
            "Test loss: 0.30269 | Test accuracy: 88.99%\n",
            "\n",
            "It took 71.85982466699988 seconds to complete the process\n",
            "\n"
          ]
        }
      ]
    },
    {
      "cell_type": "code",
      "source": [
        "model1_results = model_eval(model = model_1,\n",
        "               dataLoader = test_dataloader,\n",
        "               loss_fn = loss_function,\n",
        "               accuracy_fn = accuracy_fn,\n",
        "               device = device)\n",
        "model1_results"
      ],
      "metadata": {
        "colab": {
          "base_uri": "https://localhost:8080/"
        },
        "id": "aGst8n7K7evV",
        "outputId": "7ff7d584-472f-47a8-b29e-3072acb3f8aa"
      },
      "execution_count": 26,
      "outputs": [
        {
          "output_type": "execute_result",
          "data": {
            "text/plain": [
              "{'model_name': 'ModelV1',\n",
              " 'loss': 0.3026914596557617,\n",
              " 'accuracy': 88.9876198083067}"
            ]
          },
          "metadata": {},
          "execution_count": 26
        }
      ]
    },
    {
      "cell_type": "code",
      "source": [
        "results_comparison = pd.DataFrame([model0_results, model1_results])\n",
        "results_comparison"
      ],
      "metadata": {
        "colab": {
          "base_uri": "https://localhost:8080/",
          "height": 112
        },
        "id": "Ez3s-WXj73ab",
        "outputId": "277bb92a-e895-4ed0-a865-1a4b99bb3c2f"
      },
      "execution_count": 27,
      "outputs": [
        {
          "output_type": "execute_result",
          "data": {
            "text/plain": [
              "  model_name      loss  accuracy\n",
              "0    ModelV0  1.184970  64.08746\n",
              "1    ModelV1  0.302691  88.98762"
            ],
            "text/html": [
              "\n",
              "  <div id=\"df-db39716e-5f80-4bcf-a8fd-7f60fdc3a416\">\n",
              "    <div class=\"colab-df-container\">\n",
              "      <div>\n",
              "<style scoped>\n",
              "    .dataframe tbody tr th:only-of-type {\n",
              "        vertical-align: middle;\n",
              "    }\n",
              "\n",
              "    .dataframe tbody tr th {\n",
              "        vertical-align: top;\n",
              "    }\n",
              "\n",
              "    .dataframe thead th {\n",
              "        text-align: right;\n",
              "    }\n",
              "</style>\n",
              "<table border=\"1\" class=\"dataframe\">\n",
              "  <thead>\n",
              "    <tr style=\"text-align: right;\">\n",
              "      <th></th>\n",
              "      <th>model_name</th>\n",
              "      <th>loss</th>\n",
              "      <th>accuracy</th>\n",
              "    </tr>\n",
              "  </thead>\n",
              "  <tbody>\n",
              "    <tr>\n",
              "      <th>0</th>\n",
              "      <td>ModelV0</td>\n",
              "      <td>1.184970</td>\n",
              "      <td>64.08746</td>\n",
              "    </tr>\n",
              "    <tr>\n",
              "      <th>1</th>\n",
              "      <td>ModelV1</td>\n",
              "      <td>0.302691</td>\n",
              "      <td>88.98762</td>\n",
              "    </tr>\n",
              "  </tbody>\n",
              "</table>\n",
              "</div>\n",
              "      <button class=\"colab-df-convert\" onclick=\"convertToInteractive('df-db39716e-5f80-4bcf-a8fd-7f60fdc3a416')\"\n",
              "              title=\"Convert this dataframe to an interactive table.\"\n",
              "              style=\"display:none;\">\n",
              "        \n",
              "  <svg xmlns=\"http://www.w3.org/2000/svg\" height=\"24px\"viewBox=\"0 0 24 24\"\n",
              "       width=\"24px\">\n",
              "    <path d=\"M0 0h24v24H0V0z\" fill=\"none\"/>\n",
              "    <path d=\"M18.56 5.44l.94 2.06.94-2.06 2.06-.94-2.06-.94-.94-2.06-.94 2.06-2.06.94zm-11 1L8.5 8.5l.94-2.06 2.06-.94-2.06-.94L8.5 2.5l-.94 2.06-2.06.94zm10 10l.94 2.06.94-2.06 2.06-.94-2.06-.94-.94-2.06-.94 2.06-2.06.94z\"/><path d=\"M17.41 7.96l-1.37-1.37c-.4-.4-.92-.59-1.43-.59-.52 0-1.04.2-1.43.59L10.3 9.45l-7.72 7.72c-.78.78-.78 2.05 0 2.83L4 21.41c.39.39.9.59 1.41.59.51 0 1.02-.2 1.41-.59l7.78-7.78 2.81-2.81c.8-.78.8-2.07 0-2.86zM5.41 20L4 18.59l7.72-7.72 1.47 1.35L5.41 20z\"/>\n",
              "  </svg>\n",
              "      </button>\n",
              "      \n",
              "  <style>\n",
              "    .colab-df-container {\n",
              "      display:flex;\n",
              "      flex-wrap:wrap;\n",
              "      gap: 12px;\n",
              "    }\n",
              "\n",
              "    .colab-df-convert {\n",
              "      background-color: #E8F0FE;\n",
              "      border: none;\n",
              "      border-radius: 50%;\n",
              "      cursor: pointer;\n",
              "      display: none;\n",
              "      fill: #1967D2;\n",
              "      height: 32px;\n",
              "      padding: 0 0 0 0;\n",
              "      width: 32px;\n",
              "    }\n",
              "\n",
              "    .colab-df-convert:hover {\n",
              "      background-color: #E2EBFA;\n",
              "      box-shadow: 0px 1px 2px rgba(60, 64, 67, 0.3), 0px 1px 3px 1px rgba(60, 64, 67, 0.15);\n",
              "      fill: #174EA6;\n",
              "    }\n",
              "\n",
              "    [theme=dark] .colab-df-convert {\n",
              "      background-color: #3B4455;\n",
              "      fill: #D2E3FC;\n",
              "    }\n",
              "\n",
              "    [theme=dark] .colab-df-convert:hover {\n",
              "      background-color: #434B5C;\n",
              "      box-shadow: 0px 1px 3px 1px rgba(0, 0, 0, 0.15);\n",
              "      filter: drop-shadow(0px 1px 2px rgba(0, 0, 0, 0.3));\n",
              "      fill: #FFFFFF;\n",
              "    }\n",
              "  </style>\n",
              "\n",
              "      <script>\n",
              "        const buttonEl =\n",
              "          document.querySelector('#df-db39716e-5f80-4bcf-a8fd-7f60fdc3a416 button.colab-df-convert');\n",
              "        buttonEl.style.display =\n",
              "          google.colab.kernel.accessAllowed ? 'block' : 'none';\n",
              "\n",
              "        async function convertToInteractive(key) {\n",
              "          const element = document.querySelector('#df-db39716e-5f80-4bcf-a8fd-7f60fdc3a416');\n",
              "          const dataTable =\n",
              "            await google.colab.kernel.invokeFunction('convertToInteractive',\n",
              "                                                     [key], {});\n",
              "          if (!dataTable) return;\n",
              "\n",
              "          const docLinkHtml = 'Like what you see? Visit the ' +\n",
              "            '<a target=\"_blank\" href=https://colab.research.google.com/notebooks/data_table.ipynb>data table notebook</a>'\n",
              "            + ' to learn more about interactive tables.';\n",
              "          element.innerHTML = '';\n",
              "          dataTable['output_type'] = 'display_data';\n",
              "          await google.colab.output.renderOutput(dataTable, element);\n",
              "          const docLink = document.createElement('div');\n",
              "          docLink.innerHTML = docLinkHtml;\n",
              "          element.appendChild(docLink);\n",
              "        }\n",
              "      </script>\n",
              "    </div>\n",
              "  </div>\n",
              "  "
            ]
          },
          "metadata": {},
          "execution_count": 27
        }
      ]
    },
    {
      "cell_type": "code",
      "source": [
        "#Saving the best model\n",
        "from pathlib import Path\n",
        "MODEL_PATH = Path(\"models\")\n",
        "MODEL_PATH.mkdir(parents = True,\n",
        "                       exist_ok = True)\n",
        "\n",
        "MODEL_NAME = \"FashionMNIST_CNN_model.pth\"\n",
        "SAVE_PATH = MODEL_PATH/MODEL_NAME\n",
        "\n",
        "torch.save(obj = model_1.state_dict(),\n",
        "           f = SAVE_PATH)\n",
        "SAVE_PATH"
      ],
      "metadata": {
        "colab": {
          "base_uri": "https://localhost:8080/"
        },
        "id": "6xRtVaLfCN8h",
        "outputId": "d01f6404-ce1c-4b30-f826-26621de1bab6"
      },
      "execution_count": 28,
      "outputs": [
        {
          "output_type": "execute_result",
          "data": {
            "text/plain": [
              "PosixPath('models/FashionMNIST_CNN_model.pth')"
            ]
          },
          "metadata": {},
          "execution_count": 28
        }
      ]
    },
    {
      "cell_type": "code",
      "source": [
        "def make_predictions(model: torch.nn.Module, data: list, device: torch.device = device):\n",
        "  pred_probs = []\n",
        "  model.eval()\n",
        "  with torch.inference_mode():\n",
        "    for sample in data:\n",
        "      sample = torch.unsqueeze(sample, dim = 0).to(device)\n",
        "\n",
        "      pred_logit = model(sample)\n",
        "\n",
        "      pred_prob = torch.softmax(pred_logit.squeeze(), dim = 0)\n",
        "\n",
        "      pred_probs.append(pred_prob.cpu())\n",
        "\n",
        "  return torch.stack(pred_probs)"
      ],
      "metadata": {
        "id": "AD6mQekYOoAm"
      },
      "execution_count": 29,
      "outputs": []
    },
    {
      "cell_type": "code",
      "source": [
        "import random\n",
        "test_samples = []\n",
        "test_labels = []\n",
        "for sample, label in random.sample(list(test_data), k = 9):\n",
        "  test_samples.append(sample)\n",
        "  test_labels.append(label)\n",
        "\n",
        "test_samples[0]"
      ],
      "metadata": {
        "colab": {
          "base_uri": "https://localhost:8080/"
        },
        "id": "ggg4YCC7yXdy",
        "outputId": "5579844c-cdf5-4794-a82f-516acf3c6ffc"
      },
      "execution_count": 30,
      "outputs": [
        {
          "output_type": "execute_result",
          "data": {
            "text/plain": [
              "tensor([[[0.0000, 0.0000, 0.0118, 0.0000, 0.0000, 0.0000, 0.0000, 0.0000,\n",
              "          0.0000, 0.1137, 0.5647, 0.3922, 0.2941, 0.2392, 0.1569, 0.1451,\n",
              "          0.2000, 0.2471, 0.5961, 0.6196, 0.0353, 0.0000, 0.0000, 0.0000,\n",
              "          0.0000, 0.0000, 0.0000, 0.0000],\n",
              "         [0.0000, 0.0000, 0.0000, 0.0078, 0.0000, 0.0000, 0.0000, 0.2824,\n",
              "          0.7137, 0.8078, 0.8157, 0.7451, 0.7333, 0.7608, 0.7373, 0.7451,\n",
              "          0.8118, 0.8863, 0.8431, 0.7765, 0.9294, 0.6157, 0.0745, 0.0000,\n",
              "          0.0000, 0.0000, 0.0000, 0.0000],\n",
              "         [0.0000, 0.0000, 0.0000, 0.0000, 0.0000, 0.0275, 0.6627, 0.8392,\n",
              "          0.8078, 0.7686, 0.7961, 0.7882, 0.6588, 0.5255, 0.4941, 0.4902,\n",
              "          0.6863, 0.7608, 0.7569, 0.7765, 0.7922, 0.8196, 0.8196, 0.3176,\n",
              "          0.0000, 0.0000, 0.0000, 0.0000],\n",
              "         [0.0000, 0.0000, 0.0078, 0.0000, 0.0000, 0.6784, 0.8510, 0.7451,\n",
              "          0.7451, 0.7569, 0.7176, 0.7333, 0.8118, 0.7961, 0.8471, 0.7922,\n",
              "          0.8118, 0.7608, 0.7765, 0.7529, 0.7176, 0.7176, 0.7569, 0.8157,\n",
              "          0.1333, 0.0000, 0.0078, 0.0000],\n",
              "         [0.0000, 0.0000, 0.0078, 0.0000, 0.3804, 0.8471, 0.7373, 0.7608,\n",
              "          0.7647, 0.7882, 0.7922, 0.7608, 0.7569, 0.7765, 0.9765, 0.7216,\n",
              "          0.7176, 0.7137, 0.7333, 0.7373, 0.7569, 0.7765, 0.7373, 0.7843,\n",
              "          0.6549, 0.0000, 0.0000, 0.0000],\n",
              "         [0.0000, 0.0000, 0.0000, 0.0000, 0.7373, 0.8196, 0.7608, 0.7098,\n",
              "          0.7216, 0.7373, 0.7255, 0.7451, 0.7647, 0.7529, 0.7882, 0.6902,\n",
              "          0.8118, 0.8000, 0.7882, 0.7294, 0.7176, 0.6863, 0.7294, 0.7569,\n",
              "          0.7451, 0.0000, 0.0000, 0.0000],\n",
              "         [0.0000, 0.0000, 0.0000, 0.0000, 0.7451, 0.7373, 0.8000, 0.7333,\n",
              "          0.6980, 0.7373, 0.7373, 0.7216, 0.7216, 0.7098, 0.7882, 0.6667,\n",
              "          0.7137, 0.7137, 0.7569, 0.8000, 0.7569, 0.7216, 0.8118, 0.7451,\n",
              "          0.7882, 0.1843, 0.0000, 0.0000],\n",
              "         [0.0000, 0.0000, 0.0000, 0.1882, 0.7882, 0.6980, 0.8627, 0.8431,\n",
              "          0.6863, 0.7333, 0.7451, 0.7098, 0.7255, 0.7098, 0.7922, 0.6824,\n",
              "          0.6784, 0.6902, 0.6980, 0.7098, 0.6824, 0.7098, 0.8667, 0.7333,\n",
              "          0.7804, 0.4078, 0.0000, 0.0000],\n",
              "         [0.0000, 0.0000, 0.0000, 0.3255, 0.8000, 0.6863, 0.7647, 0.8549,\n",
              "          0.7490, 0.7255, 0.7333, 0.7020, 0.7137, 0.6941, 0.7333, 0.6549,\n",
              "          0.6706, 0.7020, 0.7255, 0.7176, 0.7137, 0.7333, 0.8118, 0.7333,\n",
              "          0.7843, 0.5843, 0.0000, 0.0000],\n",
              "         [0.0000, 0.0000, 0.0000, 0.4863, 0.8118, 0.6824, 0.7490, 0.8314,\n",
              "          0.7882, 0.7333, 0.7333, 0.7098, 0.7137, 0.6824, 0.7451, 0.6706,\n",
              "          0.6863, 0.7137, 0.7294, 0.7176, 0.6902, 0.7294, 0.7569, 0.7451,\n",
              "          0.7686, 0.7255, 0.0000, 0.0000],\n",
              "         [0.0000, 0.0000, 0.0000, 0.6314, 0.7882, 0.6667, 0.7137, 0.9294,\n",
              "          0.7490, 0.7490, 0.6941, 0.7020, 0.6980, 0.6706, 0.7451, 0.6784,\n",
              "          0.6824, 0.6980, 0.7255, 0.7098, 0.6784, 0.7569, 0.7490, 0.7373,\n",
              "          0.7686, 0.7961, 0.0000, 0.0000],\n",
              "         [0.0000, 0.0000, 0.0000, 0.7098, 0.7529, 0.7216, 0.6784, 1.0000,\n",
              "          0.7294, 0.7451, 0.6824, 0.7098, 0.7294, 0.6941, 0.7804, 0.6980,\n",
              "          0.6784, 0.6941, 0.7137, 0.7098, 0.6824, 0.7765, 0.7176, 0.7216,\n",
              "          0.7843, 0.8157, 0.0000, 0.0000],\n",
              "         [0.0000, 0.0000, 0.0000, 0.7686, 0.7373, 0.7608, 0.6667, 0.9686,\n",
              "          0.6902, 0.7608, 0.6627, 0.6941, 0.7373, 0.6667, 0.8078, 0.7098,\n",
              "          0.6667, 0.6863, 0.7098, 0.6902, 0.6784, 0.7686, 0.7569, 0.7333,\n",
              "          0.8078, 0.8431, 0.0471, 0.0000],\n",
              "         [0.0000, 0.0000, 0.0000, 0.8078, 0.7216, 0.7765, 0.6941, 0.8980,\n",
              "          0.6902, 0.8314, 0.6549, 0.6549, 0.7490, 0.6784, 0.7176, 0.6471,\n",
              "          0.6824, 0.6667, 0.7098, 0.6902, 0.6588, 0.7922, 0.7843, 0.7451,\n",
              "          0.8157, 0.8588, 0.1176, 0.0000],\n",
              "         [0.0000, 0.0000, 0.0392, 0.8627, 0.6980, 0.7647, 0.7098, 0.8549,\n",
              "          0.7647, 0.9098, 0.7333, 0.6235, 0.7137, 0.7098, 0.6588, 0.6157,\n",
              "          0.6784, 0.6667, 0.7020, 0.7373, 0.7294, 0.7804, 0.7765, 0.7176,\n",
              "          0.8196, 0.8667, 0.1804, 0.0000],\n",
              "         [0.0000, 0.0000, 0.1373, 0.8902, 0.6471, 0.7529, 0.7373, 0.8314,\n",
              "          0.8196, 0.8745, 0.7569, 0.6392, 0.6824, 0.7098, 0.7373, 0.6667,\n",
              "          0.6588, 0.6627, 0.7333, 0.7373, 0.7765, 0.8118, 0.7647, 0.7255,\n",
              "          0.8235, 0.9098, 0.2510, 0.0000],\n",
              "         [0.0000, 0.0000, 0.2471, 0.8863, 0.6392, 0.7294, 0.7490, 0.9137,\n",
              "          0.8392, 0.8118, 0.7451, 0.6706, 0.6588, 0.6667, 0.7686, 0.7098,\n",
              "          0.6627, 0.6627, 0.7765, 0.6941, 0.6941, 0.7686, 0.7451, 0.7804,\n",
              "          0.8118, 0.9216, 0.3137, 0.0000],\n",
              "         [0.0000, 0.0000, 0.2431, 0.8824, 0.6392, 0.7451, 0.6941, 0.7176,\n",
              "          0.9373, 0.7373, 0.7333, 0.7216, 0.6824, 0.6588, 0.7804, 0.6902,\n",
              "          0.6824, 0.6706, 0.7569, 0.7961, 0.7529, 0.7216, 0.7098, 0.7765,\n",
              "          0.8118, 0.8549, 0.3725, 0.0000],\n",
              "         [0.0000, 0.0000, 0.3020, 0.8784, 0.6510, 0.7804, 0.6784, 0.6157,\n",
              "          0.8863, 0.6902, 0.7137, 0.7569, 0.7176, 0.6941, 0.7216, 0.6471,\n",
              "          0.7098, 0.6980, 0.7373, 0.7686, 0.7569, 0.7765, 0.7020, 0.7882,\n",
              "          0.8157, 0.8314, 0.4549, 0.0000],\n",
              "         [0.0000, 0.0000, 0.3804, 0.8627, 0.6667, 0.7843, 0.6667, 0.6078,\n",
              "          0.9765, 0.6824, 0.6902, 0.7804, 0.6667, 0.7647, 0.6941, 0.6314,\n",
              "          0.7255, 0.7176, 0.7333, 0.6706, 0.7529, 0.7961, 0.7176, 0.8078,\n",
              "          0.8235, 0.8314, 0.4941, 0.0000],\n",
              "         [0.0000, 0.0000, 0.4863, 0.8588, 0.6902, 0.8000, 0.5961, 0.5647,\n",
              "          0.8667, 0.7373, 0.6902, 0.7686, 0.7020, 0.7216, 0.7255, 0.6784,\n",
              "          0.7373, 0.7020, 0.7373, 0.7137, 0.8314, 0.6039, 0.5686, 0.7961,\n",
              "          0.8157, 0.8078, 0.5098, 0.0000],\n",
              "         [0.0000, 0.0000, 0.5098, 0.8431, 0.6941, 0.8275, 0.4745, 0.5216,\n",
              "          0.8784, 0.7373, 0.7569, 0.7451, 0.7373, 0.7333, 0.7804, 0.7216,\n",
              "          0.7373, 0.7255, 0.7529, 0.7373, 0.8157, 0.6235, 0.5255, 0.8078,\n",
              "          0.7451, 0.8431, 0.5490, 0.0000],\n",
              "         [0.0000, 0.0000, 0.5686, 0.8196, 0.7255, 0.8667, 0.5255, 0.0039,\n",
              "          0.8745, 0.7176, 0.7373, 0.7098, 0.7255, 0.7137, 0.7569, 0.7255,\n",
              "          0.7647, 0.7569, 0.7451, 0.7294, 0.9176, 0.3176, 0.5294, 0.8431,\n",
              "          0.7176, 0.8392, 0.5765, 0.0000],\n",
              "         [0.0000, 0.0000, 0.6000, 0.8078, 0.7294, 0.7843, 0.5490, 0.0000,\n",
              "          0.0000, 0.0000, 0.0000, 0.0000, 0.0000, 0.0000, 0.0000, 0.0000,\n",
              "          0.0275, 0.0196, 0.0039, 0.0039, 0.0000, 0.0000, 0.4431, 0.8902,\n",
              "          0.7137, 0.7843, 0.5961, 0.0000],\n",
              "         [0.0000, 0.0000, 0.6902, 0.7765, 0.7451, 0.7922, 0.4471, 0.0000,\n",
              "          0.0000, 0.0000, 0.0000, 0.0000, 0.0000, 0.0000, 0.0000, 0.0000,\n",
              "          0.0000, 0.0000, 0.0000, 0.0000, 0.0000, 0.0000, 0.3569, 0.8784,\n",
              "          0.7098, 0.8157, 0.5765, 0.0000],\n",
              "         [0.0000, 0.0000, 0.6784, 0.7922, 0.7373, 0.8118, 0.2745, 0.0000,\n",
              "          0.0078, 0.0039, 0.0078, 0.0039, 0.0078, 0.0078, 0.0078, 0.0078,\n",
              "          0.0078, 0.0118, 0.0118, 0.0078, 0.0078, 0.0000, 0.0824, 0.8118,\n",
              "          0.7176, 0.7765, 0.4941, 0.0000],\n",
              "         [0.0000, 0.0000, 0.5059, 0.8196, 0.8235, 0.7843, 0.0039, 0.0000,\n",
              "          0.0039, 0.0000, 0.0000, 0.0000, 0.0000, 0.0000, 0.0000, 0.0000,\n",
              "          0.0000, 0.0000, 0.0000, 0.0000, 0.0039, 0.0000, 0.0000, 0.6824,\n",
              "          0.7804, 0.8118, 0.4902, 0.0000],\n",
              "         [0.0000, 0.0000, 0.1686, 0.5882, 0.6078, 0.4588, 0.0000, 0.0000,\n",
              "          0.0039, 0.0039, 0.0000, 0.0000, 0.0000, 0.0000, 0.0000, 0.0000,\n",
              "          0.0000, 0.0000, 0.0000, 0.0000, 0.0000, 0.0000, 0.0000, 0.4745,\n",
              "          0.6863, 0.6706, 0.2706, 0.0000]]])"
            ]
          },
          "metadata": {},
          "execution_count": 30
        }
      ]
    },
    {
      "cell_type": "code",
      "source": [
        "test_labels[0]"
      ],
      "metadata": {
        "colab": {
          "base_uri": "https://localhost:8080/"
        },
        "id": "5S0BE2eay1KQ",
        "outputId": "51aa9aba-3a75-458c-c220-44fa57ca7307"
      },
      "execution_count": 31,
      "outputs": [
        {
          "output_type": "execute_result",
          "data": {
            "text/plain": [
              "4"
            ]
          },
          "metadata": {},
          "execution_count": 31
        }
      ]
    },
    {
      "cell_type": "code",
      "source": [
        "pred_probs = make_predictions(model = model_1,\n",
        "                              data = test_samples)\n",
        "\n",
        "pred_probs[0]"
      ],
      "metadata": {
        "colab": {
          "base_uri": "https://localhost:8080/"
        },
        "id": "aOwGywxZy_Aa",
        "outputId": "31113a0e-cc29-4490-a1f0-f49e5adbd92a"
      },
      "execution_count": 32,
      "outputs": [
        {
          "output_type": "execute_result",
          "data": {
            "text/plain": [
              "tensor([3.1143e-03, 4.1899e-04, 1.8888e-01, 5.2996e-05, 6.7441e-01, 4.1456e-05,\n",
              "        1.3148e-01, 4.5223e-05, 1.3585e-03, 1.9063e-04])"
            ]
          },
          "metadata": {},
          "execution_count": 32
        }
      ]
    },
    {
      "cell_type": "code",
      "source": [
        "pred_classes = pred_probs.argmax(dim = 1)\n",
        "pred_classes[0]"
      ],
      "metadata": {
        "colab": {
          "base_uri": "https://localhost:8080/"
        },
        "id": "xFNaqdhYzK2_",
        "outputId": "6a832316-0360-4591-c6f4-a6f8f01c34e5"
      },
      "execution_count": 33,
      "outputs": [
        {
          "output_type": "execute_result",
          "data": {
            "text/plain": [
              "tensor(4)"
            ]
          },
          "metadata": {},
          "execution_count": 33
        }
      ]
    },
    {
      "cell_type": "code",
      "source": [
        "test_labels, pred_classes"
      ],
      "metadata": {
        "colab": {
          "base_uri": "https://localhost:8080/"
        },
        "id": "tTtKjcOizcII",
        "outputId": "72a902f3-c82d-431e-b491-c213fb621421"
      },
      "execution_count": 34,
      "outputs": [
        {
          "output_type": "execute_result",
          "data": {
            "text/plain": [
              "([4, 3, 0, 5, 9, 1, 3, 7, 4], tensor([4, 3, 0, 5, 9, 1, 3, 7, 4]))"
            ]
          },
          "metadata": {},
          "execution_count": 34
        }
      ]
    },
    {
      "cell_type": "code",
      "source": [
        "#Plotting predictions for comparison\n",
        "plt.figure(figsize = (9,9))\n",
        "nrows = 3\n",
        "ncols = 3\n",
        "for i, sample in enumerate(test_samples):\n",
        "  plt.subplot(nrows, ncols, i+1)\n",
        "  plt.imshow(sample.squeeze())\n",
        "  pred_label = class_names[pred_classes[i]]\n",
        "  truth_label = class_names[test_labels[i]]\n",
        "\n",
        "  title_text = f\"Pred label: {pred_label} | Truth: {truth_label}\"\n",
        "\n",
        "  if pred_label == truth_label:\n",
        "    plt.title(title_text, fontsize = 7, c = 'g')\n",
        "  else:\n",
        "    plt.title(title_text, fontsize = 7, c = 'r')\n",
        "  plt.axis(False)"
      ],
      "metadata": {
        "colab": {
          "base_uri": "https://localhost:8080/",
          "height": 746
        },
        "id": "gFuce6s5ahQA",
        "outputId": "27aef9e2-9d5c-4884-eb10-a1707e750005"
      },
      "execution_count": 35,
      "outputs": [
        {
          "output_type": "display_data",
          "data": {
            "text/plain": [
              "<Figure size 900x900 with 9 Axes>"
            ],
            "image/png": "[encoded data removed]"
          },
          "metadata": {}
        }
      ]
    },
    {
      "cell_type": "code",
      "source": [
        "#Importing dependencies for a confusion matrix\n",
        "try:\n",
        "  import torchmetrics\n",
        "except:\n",
        "  !pip install -q torchmetrics -U mlxtend\n",
        "  import torchmetrics\n",
        "\n",
        "from mlxtend.plotting import plot_confusion_matrix\n",
        "from torchmetrics import ConfusionMatrix\n",
        "\n",
        "import mlxtend\n",
        "print(mlxtend.__version__)\n",
        "print(torchmetrics.__version__)"
      ],
      "metadata": {
        "colab": {
          "base_uri": "https://localhost:8080/"
        },
        "id": "f3HqQw1I7SfD",
        "outputId": "1dcf2631-c316-4761-9102-1f6d1e1abd93"
      },
      "execution_count": 38,
      "outputs": [
        {
          "output_type": "stream",
          "name": "stdout",
          "text": [
            "0.22.0\n",
            "1.0.0\n"
          ]
        }
      ]
    },
    {
      "cell_type": "code",
      "source": [
        "#Making predictions with the model\n",
        "y_preds = []\n",
        "model_1.eval()\n",
        "with torch.inference_mode():\n",
        "  for X,y in test_dataloader:\n",
        "\n",
        "    X, y = X.to(device), y.to(device)\n",
        "    y_logit = model_1(X)\n",
        "    y_pred = torch.softmax(y_logit, dim = 1).argmax(dim = 1)\n",
        "    y_preds.append(y_pred.cpu())\n",
        "\n",
        "y_pred_tensor = torch.cat(y_preds)\n",
        "confusion_matrix = ConfusionMatrix(num_classes = len(class_names), task = 'multiclass')\n",
        "confusion_matrix_tensor = confusion_matrix(preds = y_pred_tensor,\n",
        "                                           target = test_data.targets)\n",
        "\n",
        "fig, ax = plot_confusion_matrix(\n",
        "    conf_mat = confusion_matrix_tensor.numpy(),\n",
        "    class_names = class_names,\n",
        "    figsize = (10,7)\n",
        ")"
      ],
      "metadata": {
        "colab": {
          "base_uri": "https://localhost:8080/",
          "height": 667
        },
        "id": "aJUmmwo2CpGM",
        "outputId": "ad519375-43ed-439c-cc7b-52e07563fb24"
      },
      "execution_count": 41,
      "outputs": [
        {
          "output_type": "display_data",
          "data": {
            "text/plain": [
              "<Figure size 1000x700 with 1 Axes>"
            ],
            "image/png": "[encoded data removed]"
          },
          "metadata": {}
        }
      ]
    }
  ]
}